{
 "cells": [
  {
   "cell_type": "code",
   "id": "initial_id",
   "metadata": {
    "collapsed": true,
    "ExecuteTime": {
     "end_time": "2025-04-13T14:13:46.340001Z",
     "start_time": "2025-04-13T14:13:46.332799Z"
    }
   },
   "source": [
    "import sys\n",
    "import numpy as np\n",
    "import pandas as pd\n",
    "from matplotlib import pyplot as plt\n",
    "\n",
    "sys.path.append('./../')  # Needed for importing from simulation_utils.py\n",
    "from simulation_utils import *\n"
   ],
   "outputs": [],
   "execution_count": 37
  },
  {
   "metadata": {},
   "cell_type": "markdown",
   "source": "### NumPy Sim\n",
   "id": "fc133e43cc57dbce"
  },
  {
   "metadata": {
    "ExecuteTime": {
     "end_time": "2025-04-13T14:15:38.731037Z",
     "start_time": "2025-04-13T14:15:38.727359Z"
    }
   },
   "cell_type": "code",
   "source": [
    "\n",
    "# Define BBPSSW circuit (Alice and Bob each apply CNOT: control=first qubit, target=second qubit)\n",
    "bbpssw_circuit = QuantumCircuit([\n",
    "    Gate(kron([I(), SWAP(), I()])),\n",
    "    Gate(kron([CNOT(), CNOT()])),        # Apply CNOT(1A, 2A) and CNOT(1B, 2B)\n",
    "    Gate(kron([I(), SWAP(), I()])),\n",
    "])\n",
    "\n",
    "# Construct POVM for the 2nd EPR pair (qubits 2A and 2B)\n",
    "povm_epr2 = POVM(\n",
    "    nqubits=4,\n",
    "    meas_qubits=[2, 3],\n",
    "    partial_trace=True,\n",
    ")\n"
   ],
   "id": "ac76de3d3afdebe7",
   "outputs": [],
   "execution_count": 45
  },
  {
   "metadata": {
    "ExecuteTime": {
     "end_time": "2025-04-13T14:18:43.613693Z",
     "start_time": "2025-04-13T14:18:43.584002Z"
    }
   },
   "cell_type": "code",
   "source": [
    "numpy_sim_results = []\n",
    "\n",
    "for epr_channel_fidelity in np.linspace(0, 1, 11):\n",
    "    # Create two Werner states\n",
    "    epr_1 = epr_2 = werner_state(epr_channel_fidelity)\n",
    "\n",
    "    # Combined system: |1A, 1B, 2A, 2B⟩\n",
    "    rho = kron([epr_1, epr_2])\n",
    "\n",
    "    # Apply BBPSSW circuit\n",
    "    rho = bbpssw_circuit(rho)\n",
    "\n",
    "    # Measure qubits 2A and 2B\n",
    "    probs, rho_outs = povm_epr2(rho)\n",
    "\n",
    "    # Compute fidelity of surviving pair (1A-1B)\n",
    "    target_state = bell_state(0, 0)\n",
    "    fidels = np.array([fidelity(dm, target_state) for dm in rho_outs])\n",
    "\n",
    "    # Compute success probability and fidelity\n",
    "    prob_succ = probs[0] + probs[-1]\n",
    "    fidel_succ = (fidels[0] * probs[0] + fidels[-1] * probs[-1]) / prob_succ if prob_succ else 0\n",
    "\n",
    "    numpy_sim_results.append([epr_channel_fidelity, prob_succ, fidel_succ])\n",
    "\n",
    "numpy_sim_results = pd.DataFrame(numpy_sim_results, columns=['EPR channel fidelity', 'P_Succ', 'F_succ'])\n",
    "\n",
    "numpy_sim_results"
   ],
   "id": "f2397910ced31ca9",
   "outputs": [
    {
     "data": {
      "text/plain": [
       "    EPR channel fidelity  P_Succ    F_succ\n",
       "0                    0.0   0.500  0.250000\n",
       "1                    0.1   0.505  0.309406\n",
       "2                    0.2   0.520  0.384615\n",
       "3                    0.3   0.545  0.470183\n",
       "4                    0.4   0.580  0.560345\n",
       "5                    0.5   0.625  0.650000\n",
       "6                    0.6   0.680  0.735294\n",
       "7                    0.7   0.745  0.813758\n",
       "8                    0.8   0.820  0.884146\n",
       "9                    0.9   0.905  0.946133\n",
       "10                   1.0   1.000  1.000000"
      ],
      "text/html": [
       "<div>\n",
       "<style scoped>\n",
       "    .dataframe tbody tr th:only-of-type {\n",
       "        vertical-align: middle;\n",
       "    }\n",
       "\n",
       "    .dataframe tbody tr th {\n",
       "        vertical-align: top;\n",
       "    }\n",
       "\n",
       "    .dataframe thead th {\n",
       "        text-align: right;\n",
       "    }\n",
       "</style>\n",
       "<table border=\"1\" class=\"dataframe\">\n",
       "  <thead>\n",
       "    <tr style=\"text-align: right;\">\n",
       "      <th></th>\n",
       "      <th>EPR channel fidelity</th>\n",
       "      <th>P_Succ</th>\n",
       "      <th>F_succ</th>\n",
       "    </tr>\n",
       "  </thead>\n",
       "  <tbody>\n",
       "    <tr>\n",
       "      <th>0</th>\n",
       "      <td>0.0</td>\n",
       "      <td>0.500</td>\n",
       "      <td>0.250000</td>\n",
       "    </tr>\n",
       "    <tr>\n",
       "      <th>1</th>\n",
       "      <td>0.1</td>\n",
       "      <td>0.505</td>\n",
       "      <td>0.309406</td>\n",
       "    </tr>\n",
       "    <tr>\n",
       "      <th>2</th>\n",
       "      <td>0.2</td>\n",
       "      <td>0.520</td>\n",
       "      <td>0.384615</td>\n",
       "    </tr>\n",
       "    <tr>\n",
       "      <th>3</th>\n",
       "      <td>0.3</td>\n",
       "      <td>0.545</td>\n",
       "      <td>0.470183</td>\n",
       "    </tr>\n",
       "    <tr>\n",
       "      <th>4</th>\n",
       "      <td>0.4</td>\n",
       "      <td>0.580</td>\n",
       "      <td>0.560345</td>\n",
       "    </tr>\n",
       "    <tr>\n",
       "      <th>5</th>\n",
       "      <td>0.5</td>\n",
       "      <td>0.625</td>\n",
       "      <td>0.650000</td>\n",
       "    </tr>\n",
       "    <tr>\n",
       "      <th>6</th>\n",
       "      <td>0.6</td>\n",
       "      <td>0.680</td>\n",
       "      <td>0.735294</td>\n",
       "    </tr>\n",
       "    <tr>\n",
       "      <th>7</th>\n",
       "      <td>0.7</td>\n",
       "      <td>0.745</td>\n",
       "      <td>0.813758</td>\n",
       "    </tr>\n",
       "    <tr>\n",
       "      <th>8</th>\n",
       "      <td>0.8</td>\n",
       "      <td>0.820</td>\n",
       "      <td>0.884146</td>\n",
       "    </tr>\n",
       "    <tr>\n",
       "      <th>9</th>\n",
       "      <td>0.9</td>\n",
       "      <td>0.905</td>\n",
       "      <td>0.946133</td>\n",
       "    </tr>\n",
       "    <tr>\n",
       "      <th>10</th>\n",
       "      <td>1.0</td>\n",
       "      <td>1.000</td>\n",
       "      <td>1.000000</td>\n",
       "    </tr>\n",
       "  </tbody>\n",
       "</table>\n",
       "</div>"
      ]
     },
     "execution_count": 47,
     "metadata": {},
     "output_type": "execute_result"
    }
   ],
   "execution_count": 47
  },
  {
   "metadata": {},
   "cell_type": "markdown",
   "source": "### Extracting results from NetQASM",
   "id": "e48f2ef989fe9e99"
  },
  {
   "metadata": {
    "ExecuteTime": {
     "end_time": "2025-04-13T15:23:33.776125Z",
     "start_time": "2025-04-13T15:23:33.746535Z"
    }
   },
   "cell_type": "code",
   "source": [
    "def _get_p_succ_and_f_succ(df: pd.DataFrame):\n",
    "    \"\"\"Computes the probability of success and fidelity given success.\"\"\"\n",
    "    return [\n",
    "        1 - (df['M_Alice'] ^ df['M_Bob']).mean(),\n",
    "        df.query('M_Alice == M_Bob')['Fidelity'].mean(),\n",
    "    ]\n",
    "\n",
    "\n",
    "def _series_to_numpy(s: pd.Series):\n",
    "    \"\"\"Converts a `pandas.Series` containing lists to a numpy array by depth-1 list flattening.\"\"\"\n",
    "    # NOTE: this function can only be applied to the specific series used here\n",
    "    return np.array([np.concatenate(row) for row in s.items()])\n",
    "\n",
    "\n",
    "def get_p_succ_and_f_succ(data: pd.DataFrame):\n",
    "    \"\"\"\n",
    "    Computes the probability of success and fidelity given success,\n",
    "    grouped by gate and EPR channel fidelities, in the given `DataFrame`.\n",
    "    \"\"\"\n",
    "    # Group data by gate and channel fidelity\n",
    "    result = data.groupby(['Gate fidelity', 'EPR channel fidelity'])\n",
    "\n",
    "    result = result.apply(_get_p_succ_and_f_succ, include_groups=False)\n",
    "    result = _series_to_numpy(result)\n",
    "\n",
    "    cols = ['Gate fidelity', 'EPR channel fidelity', 'P_succ', 'F_succ']\n",
    "    result = pd.DataFrame(result, columns=cols)\n",
    "\n",
    "    return result\n",
    "\n",
    "# Read simulation results\n",
    "netqasm_sim_results = pd.read_csv('./out_bbpssw.csv')\n",
    "netqasm_sim_results = get_p_succ_and_f_succ(netqasm_sim_results)\n",
    "\n",
    "netqasm_sim_results"
   ],
   "id": "64aa2b7cf24d19ad",
   "outputs": [
    {
     "data": {
      "text/plain": [
       "   Gate fidelity  EPR channel fidelity  P_succ    F_succ\n",
       "0            0.0                   1.0    0.51  0.215686\n",
       "1            0.2                   1.0    0.59  0.305085\n",
       "2            0.4                   1.0    0.63  0.444444\n",
       "3            0.6                   1.0    0.67  0.462687\n",
       "4            0.8                   1.0    0.87  0.712644"
      ],
      "text/html": [
       "<div>\n",
       "<style scoped>\n",
       "    .dataframe tbody tr th:only-of-type {\n",
       "        vertical-align: middle;\n",
       "    }\n",
       "\n",
       "    .dataframe tbody tr th {\n",
       "        vertical-align: top;\n",
       "    }\n",
       "\n",
       "    .dataframe thead th {\n",
       "        text-align: right;\n",
       "    }\n",
       "</style>\n",
       "<table border=\"1\" class=\"dataframe\">\n",
       "  <thead>\n",
       "    <tr style=\"text-align: right;\">\n",
       "      <th></th>\n",
       "      <th>Gate fidelity</th>\n",
       "      <th>EPR channel fidelity</th>\n",
       "      <th>P_succ</th>\n",
       "      <th>F_succ</th>\n",
       "    </tr>\n",
       "  </thead>\n",
       "  <tbody>\n",
       "    <tr>\n",
       "      <th>0</th>\n",
       "      <td>0.0</td>\n",
       "      <td>1.0</td>\n",
       "      <td>0.51</td>\n",
       "      <td>0.215686</td>\n",
       "    </tr>\n",
       "    <tr>\n",
       "      <th>1</th>\n",
       "      <td>0.2</td>\n",
       "      <td>1.0</td>\n",
       "      <td>0.59</td>\n",
       "      <td>0.305085</td>\n",
       "    </tr>\n",
       "    <tr>\n",
       "      <th>2</th>\n",
       "      <td>0.4</td>\n",
       "      <td>1.0</td>\n",
       "      <td>0.63</td>\n",
       "      <td>0.444444</td>\n",
       "    </tr>\n",
       "    <tr>\n",
       "      <th>3</th>\n",
       "      <td>0.6</td>\n",
       "      <td>1.0</td>\n",
       "      <td>0.67</td>\n",
       "      <td>0.462687</td>\n",
       "    </tr>\n",
       "    <tr>\n",
       "      <th>4</th>\n",
       "      <td>0.8</td>\n",
       "      <td>1.0</td>\n",
       "      <td>0.87</td>\n",
       "      <td>0.712644</td>\n",
       "    </tr>\n",
       "  </tbody>\n",
       "</table>\n",
       "</div>"
      ]
     },
     "execution_count": 50,
     "metadata": {},
     "output_type": "execute_result"
    }
   ],
   "execution_count": 50
  },
  {
   "metadata": {},
   "cell_type": "markdown",
   "source": "### Plotting",
   "id": "25804fb4802677a1"
  },
  {
   "metadata": {
    "ExecuteTime": {
     "end_time": "2025-04-13T15:25:07.962051Z",
     "start_time": "2025-04-13T15:25:07.958336Z"
    }
   },
   "cell_type": "code",
   "source": [
    "# Theoretical functions for BBPSSW\n",
    "def prob_succ_theory(F: float):\n",
    "    \"\"\"Theoretical success probability for BBPSSW protocol\"\"\"\n",
    "    return F**2 + (1-F)**2/9 + 2*F*(1-F)/3\n",
    "\n",
    "def fidelity_succ_theory(F: float):\n",
    "    \"\"\"Theoretical fidelity after successful BBPSSW iteration\"\"\"\n",
    "    numerator = F**2 + (1-F)**2/9\n",
    "    denominator = F**2 + 2*F*(1-F)/3 + 5*(1-F)**2/9\n",
    "    return numerator / denominator\n"
   ],
   "id": "f7dcbb714c055ba4",
   "outputs": [],
   "execution_count": 51
  },
  {
   "metadata": {
    "ExecuteTime": {
     "end_time": "2025-04-13T15:26:24.792061Z",
     "start_time": "2025-04-13T15:26:24.569640Z"
    }
   },
   "cell_type": "code",
   "source": [
    "\n",
    "# Plotting code\n",
    "ps = np.linspace(0, 1, 101)\n",
    "plt.figure(figsize=(10, 6))\n",
    "\n",
    "# Theory curves\n",
    "plt.plot(ps, [prob_succ_theory(p) for p in ps], 'c-', label='Probability of Success - Theory')\n",
    "plt.plot(ps, [fidelity_succ_theory(p) for p in ps], 'm-', label='Fidelity of Success - Theory')\n",
    "\n",
    "# Numpy simulation results\n",
    "plt.plot(numpy_sim_results['EPR channel fidelity'], numpy_sim_results['P_Succ'],\n",
    "         'xb', label='Numpy P_succ')\n",
    "plt.plot(numpy_sim_results['EPR channel fidelity'], numpy_sim_results['F_succ'],\n",
    "         'xg', label='Numpy F_succ')\n",
    "\n",
    "# Formatting\n",
    "plt.title('BBPSSW Protocol Performance')\n",
    "plt.xlabel('EPR Channel Fidelity')\n",
    "plt.ylabel('Probability/Fidelity')\n",
    "plt.xticks(np.arange(0, 1.1, 0.1))\n",
    "plt.legend()\n",
    "plt.grid(True)\n",
    "plt.show()"
   ],
   "id": "ec57fc38de1f4fb5",
   "outputs": [
    {
     "data": {
      "text/plain": [
       "<Figure size 1000x600 with 1 Axes>"
      ],
      "image/png": "[encoded data removed]"
     },
     "metadata": {},
     "output_type": "display_data"
    }
   ],
   "execution_count": 53
  }
 ],
 "metadata": {
  "kernelspec": {
   "display_name": "Python 3",
   "language": "python",
   "name": "python3"
  },
  "language_info": {
   "codemirror_mode": {
    "name": "ipython",
    "version": 2
   },
   "file_extension": ".py",
   "mimetype": "text/x-python",
   "name": "python",
   "nbconvert_exporter": "python",
   "pygments_lexer": "ipython2",
   "version": "2.7.6"
  }
 },
 "nbformat": 4,
 "nbformat_minor": 5
}
